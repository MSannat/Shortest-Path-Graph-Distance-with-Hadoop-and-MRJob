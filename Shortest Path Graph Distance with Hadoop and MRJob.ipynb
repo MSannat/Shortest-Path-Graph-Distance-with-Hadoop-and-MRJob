{
 "cells": [
  {
   "cell_type": "markdown",
   "metadata": {},
   "source": [
    "## General Description\n",
    "\n",
    "In this notebook I will explore networks and develop MRJob code for finding shortest path graph distances. To build up to large data I will develop my code on some very simple, toy networks.\n",
    "After this I will take my developed code forward and modify it and apply it to two larger datasets (performing EDA along the way)."
   ]
  },
  {
   "cell_type": "markdown",
   "metadata": {},
   "source": [
    "### Undirected toy network dataset\n",
    "\n",
    "\n",
    "In an undirected network all links are symmetric, \n",
    "i.e., for a pair of nodes 'A' and 'B,' both of the links:\n",
    "\n",
    "A -> B and B -> A\n",
    "\n",
    "will exist. \n",
    "\n",
    "The toy data are available in a sparse (stripes) representation:\n",
    "\n",
    "(node) \\t (dictionary of links)\n",
    "\n",
    "on AWS/Dropbox via the url:\n",
    "\n",
    "s3://ucb-mids-mls-networks/undirected_toy.txt\n",
    "\n",
    "\n",
    "In the dictionary, target nodes are keys, link weights are values \n",
    "(here, all weights are 1, i.e., the network is unweighted).\n",
    "\n",
    "\n",
    "### Directed toy network dataset\n",
    "\n",
    "In a directed network all links are not necessarily symmetric, \n",
    "i.e., for a pair of nodes 'A' and 'B,' it is possible for only one of:\n",
    "\n",
    "A -> B or B -> A\n",
    "\n",
    "to exist. \n",
    "\n",
    "These toy data are available in a sparse (stripes) representation:\n",
    "\n",
    "(node) \\t (dictionary of links)\n",
    "\n",
    "on AWS/Dropbox via the url:\n",
    "\n",
    "s3://ucb-mids-mls-networks/directed_toy.txt\n",
    "\n",
    "In the dictionary, target nodes are keys, link weights are values \n",
    "(here, all weights are 1, i.e., the network is unweighted).\n",
    "</pre>\n",
    "</div>"
   ]
  },
  {
   "cell_type": "markdown",
   "metadata": {},
   "source": [
    "## Section 1: Shortest path graph distances (toy networks)\n",
    "I am going to write MRJob classes to find shortest path graph distances. In addition to finding the distances, my code will also output a distance-minimizing path between the source and target.\n",
    "I will be working locally for this part of the notebook, and use both of the undirected and directed toy networks.\n",
    "\n",
    "\n",
    "- shortest path in the undirected network from node 1 to node 4\n",
    "Solution: 1,5,4. NOTE: There is another shortest path also (HINT: 1->5->4)! Either will suffice.\n",
    "\n",
    "- shortest path in the directed network from node 1 to node 5\n",
    "Solution: 1,2,4,5\n",
    "\n",
    "\n",
    "\n",
    "### Main dataset 1: NLTK synonyms\n",
    "\n",
    "In the next part of this notebook, I will explore a network derived from the NLTK synonym database. At a high level, this network is undirected, defined so that there exists link between two nodes/words if the pair or words are a synonym. These data may be found at the location:\n",
    "\n",
    "<a href=\"s3://ucb-mids-mls-networks/synNet/synNet.txt\">s3://ucb-mids-mls-networks/synNet/synNet.txt</a>\n",
    "<a href=\"s3://ucb-mids-mls-networks/synNet/indices.txt\">s3://ucb-mids-mls-networks/synNet/indices.txt</a>\n",
    "\n",
    "where synNet.txt contains a sparse representation of the network:\n",
    "\n",
    "(index) \\t (dictionary of links)\n",
    "\n",
    "in indexed form, and indices.txt contains a lookup list\n",
    "\n",
    "(word) \\t (index)\n",
    "\n",
    "of indices and words. This network is small enough to explore and run\n",
    "scripts locally, but will also be good for a systems test (for later) on AWS.\n",
    "\n",
    "In the dictionary, target nodes are keys, link weights are values \n",
    "(here, all weights are 1, i.e., the network is unweighted).\n"
   ]
  },
  {
   "cell_type": "code",
   "execution_count": 1,
   "metadata": {
    "collapsed": false
   },
   "outputs": [
    {
     "name": "stdout",
     "output_type": "stream",
     "text": [
      "Overwriting directed_toy_graph.txt\n"
     ]
    }
   ],
   "source": [
    "%%writefile directed_toy_graph.txt\n",
    "1\t{'2': 1, '6': 1}\n",
    "2\t{'1': 1, '3': 1, '4': 1}\n",
    "3\t{'2': 1, '4': 1}\n",
    "4\t{'2': 1, '5': 1}\n",
    "5\t{'1': 1, '2': 1, '4': 1}"
   ]
  },
  {
   "cell_type": "code",
   "execution_count": 2,
   "metadata": {
    "collapsed": false
   },
   "outputs": [
    {
     "name": "stdout",
     "output_type": "stream",
     "text": [
      "Overwriting undirected_toy_graph.txt\n"
     ]
    }
   ],
   "source": [
    "%%writefile undirected_toy_graph.txt\n",
    "1\t{'2': 1,'5': 1}\n",
    "2\t{'1': 1,'3': 1,'4': 1,'5': 1}\n",
    "3\t{'2': 1, '4': 1}\n",
    "4\t{'2': 1,'3': 1,'5': 1}\n",
    "5\t{'1': 1, '2': 1, '4': 1}"
   ]
  },
  {
   "cell_type": "code",
   "execution_count": 3,
   "metadata": {
    "collapsed": false
   },
   "outputs": [
    {
     "name": "stdout",
     "output_type": "stream",
     "text": [
      "Overwriting undirected_weighted_toy_graph.txt\n"
     ]
    }
   ],
   "source": [
    "%%writefile undirected_weighted_toy_graph.txt\n",
    "1\t{\"2\": 1, \"5\": 100}\n",
    "2\t{\"1\": 1, \"3\": 1, \"5\": 1, \"4\": 1}\n",
    "3\t{\"2\": 1, \"4\": 1}\n",
    "4\t{\"3\": 1, \"2\": 1, \"5\": 1}\n",
    "5\t{\"1\": 100, \"2\": 1, \"4\": 1, \"6\":1}\n",
    "6\t{\"5\": 1, \"7\": 1}\n",
    "7\t{\"6\": 1}"
   ]
  },
  {
   "cell_type": "code",
   "execution_count": 4,
   "metadata": {
    "collapsed": false
   },
   "outputs": [
    {
     "name": "stdout",
     "output_type": "stream",
     "text": [
      "1\t{'2': 1, '6': 1}\n",
      "2\t{'1': 1, '3': 1, '4': 1}\n",
      "3\t{'2': 1, '4': 1}\n",
      "4\t{'2': 1, '5': 1}\n",
      "5\t{'1': 1, '2': 1, '4': 1}\n",
      "----------------------------------------------------------------------------------------------------\n",
      "1\t{'2': 1,'5': 1}\n",
      "2\t{'1': 1,'3': 1,'4': 1,'5': 1}\n",
      "3\t{'2': 1, '4': 1}\n",
      "4\t{'2': 1,'3': 1,'5': 1}\n",
      "5\t{'1': 1, '2': 1, '4': 1}\n",
      "----------------------------------------------------------------------------------------------------\n",
      "1\t{\"2\": 1, \"5\": 100}\n",
      "2\t{\"1\": 1, \"3\": 1, \"5\": 1, \"4\": 1}\n",
      "3\t{\"2\": 1, \"4\": 1}\n",
      "4\t{\"3\": 1, \"2\": 1, \"5\": 1}\n",
      "5\t{\"1\": 100, \"2\": 1, \"4\": 1, \"6\":1}\n",
      "6\t{\"5\": 1, \"7\": 1}\n",
      "7\t{\"6\": 1}"
     ]
    }
   ],
   "source": [
    "!cat directed_toy_graph.txt\n",
    "print \"\\n\",\"-\"*100\n",
    "!cat undirected_toy_graph.txt\n",
    "print \"\\n\",\"-\"*100\n",
    "!cat undirected_weighted_toy_graph.txt"
   ]
  },
  {
   "cell_type": "markdown",
   "metadata": {},
   "source": [
    "<img src=\"http://www.candpgeneration.com/images/graphs.png\" style=\"float:left;\"/>"
   ]
  },
  {
   "cell_type": "code",
   "execution_count": 5,
   "metadata": {
    "collapsed": false
   },
   "outputs": [
    {
     "name": "stdout",
     "output_type": "stream",
     "text": [
      "Found 2 items\n",
      "-rwxrwxrwx   3 scottmarler hdfs  517438296 2017-03-11 22:43 hdfs:/tmp/hw7/wiki_indices.txt\n",
      "-rwxrwxrwx   3 scottmarler hdfs 2090459616 2017-03-11 22:43 hdfs:/tmp/hw7/wiki_out.txt\n",
      "Found 6 items\n",
      "-rw-r--r--   3 manishsannat hdfs        110 2017-03-12 23:22 hdfs:/tmp/msannat/directed_toy_graph_input.txt\n",
      "drwxr-xr-x   - manishsannat hdfs          0 2017-03-13 00:50 hdfs:/tmp/msannat/output\n",
      "-rw-r--r--   3 manishsannat hdfs     705298 2017-03-12 23:24 hdfs:/tmp/msannat/synNet_input.txt\n",
      "drwxr-xr-x   - manishsannat hdfs          0 2017-03-14 04:22 hdfs:/tmp/msannat/temp-output\n",
      "-rw-r--r--   3 manishsannat hdfs        120 2017-03-13 20:11 hdfs:/tmp/msannat/undirected_toy_graph_input.txt\n",
      "-rw-r--r--   3 manishsannat hdfs 2090459616 2017-03-12 23:24 hdfs:/tmp/msannat/wiki_out_input.txt\n"
     ]
    }
   ],
   "source": [
    "!hdfs dfs -ls hdfs:///tmp/hw7/\n",
    "!hdfs dfs -ls hdfs:///tmp/msannat"
   ]
  },
  {
   "cell_type": "code",
   "execution_count": 6,
   "metadata": {
    "collapsed": false
   },
   "outputs": [
    {
     "name": "stdout",
     "output_type": "stream",
     "text": [
      "Overwriting BFSParallel.py\n"
     ]
    }
   ],
   "source": [
    "%%writefile BFSParallel.py\n",
    "\n",
    "from mrjob.job import MRJob\n",
    "from mrjob.step import MRStep\n",
    "import ast\n",
    "import sys\n",
    "\n",
    "\n",
    "class BFSParallel(MRJob):\n",
    "    \n",
    "    def steps(self):\n",
    "        return [MRStep(mapper_init=self.mapper_init,\n",
    "                       mapper=self.mapper,\n",
    "                       combiner=None,\n",
    "                       reducer_init=self.reducer_init,\n",
    "                       reducer=self.reducer,\n",
    "                       reducer_final=self.reducer_final)\n",
    "                ]\n",
    "    \n",
    "    \n",
    "    def configure_options(self):\n",
    "        super(BFSParallel, self).configure_options()\n",
    "        self.add_passthrough_option('--startnode', default='1', type=str, help='starting node for single source shortest path')\n",
    "        self.add_passthrough_option('--endnode', default=None, type=str, help='target node to be visited')\n",
    "    \n",
    "    def mapper_init(self):\n",
    "        self.startnode = self.options.startnode\n",
    "    \n",
    "    \n",
    "    def mapper(self, _, line):\n",
    "        \n",
    "        distance = sys.maxint\n",
    "        path =[]\n",
    "        status= None\n",
    "        node = None\n",
    "        edges = None\n",
    "        \n",
    "        node, graph_values = line.strip().split('\\t')\n",
    "        node =  node.strip('\"')\n",
    "        values = graph_values.strip('\"').split(\"|\")\n",
    "        edges = ast.literal_eval(values[0])\n",
    "\n",
    "        if len(values) == 4:\n",
    "            distance = int(values[1])\n",
    "            path = ast.literal_eval(values[2])\n",
    "            status = values[3]\n",
    "        \n",
    "        if status == None:\n",
    "            if self.startnode == node:\n",
    "                distance = 0\n",
    "                status = 'queued'\n",
    "        if status == 'queued':\n",
    "            yield node, (edges, distance, path,  'visited')\n",
    "            path.append(node)\n",
    "            for node in edges.iterkeys():\n",
    "                yield node, (None,  distance+1, path,'queued')\n",
    "        else:\n",
    "            yield node, (edges,  distance, path,status)\n",
    "\n",
    "\n",
    "\n",
    "    def reducer_init(self):\n",
    "        self.endnode = self.options.endnode\n",
    "        self.endnode_reached = False\n",
    "        self.final_path = None\n",
    "\n",
    "\n",
    "    def reducer(self, key, values):\n",
    "        edges = {}\n",
    "        distance= []\n",
    "        status = []\n",
    "        path = []\n",
    "        curr_state = None\n",
    "        \n",
    "        \n",
    "        for value in values:\n",
    "            edges_t = value[0]\n",
    "            path_t = value[2]\n",
    "            distance_t = value[1]\n",
    "            status_t = value[3]\n",
    "            \n",
    "            if status_t == 'visited':\n",
    "                path = path_t\n",
    "                edges = edges_t\n",
    "            else:\n",
    "                if edges_t != None:\n",
    "                    edges = edges_t\n",
    "                if path_t != None and len(path_t) > 0:\n",
    "                    path = path_t\n",
    "            distance.append(distance_t)\n",
    "            status.append(status_t)\n",
    "        min_distance = min(distance)\n",
    "\n",
    "\n",
    "        if 'visited' in status:\n",
    "            curr_state = 'visited'\n",
    "            if self.endnode != None and key.strip('\"') == self.endnode:\n",
    "                self.endnode_reached = True\n",
    "                self.final_path = str(key) + \"\\t\" + str(edges) + '|' + str(min_distance) + '|' + str(path) + '|' + \"F\"\n",
    "        elif 'queued' in status:\n",
    "            curr_state = 'queued'\n",
    "        else:\n",
    "            curr_state = 'unvisited'\n",
    "\n",
    "        yield key, str(edges) + '|' + str(min_distance) + '|' + str(path) + '|' + curr_state\n",
    "    \n",
    "    def reducer_final(self):\n",
    "        if self.endnode_reached:\n",
    "            yield self.final_path.split('\\t')[0], self.final_path.split('\\t')[1]\n",
    "\n",
    "\n",
    "if __name__ == '__main__':\n",
    "    BFSParallel.run()\n",
    "\n"
   ]
  },
  {
   "cell_type": "code",
   "execution_count": 7,
   "metadata": {
    "collapsed": false
   },
   "outputs": [
    {
     "name": "stdout",
     "output_type": "stream",
     "text": [
      "Overwriting BFSParallel_driver.py\n"
     ]
    }
   ],
   "source": [
    "%%writefile BFSParallel_driver.py\n",
    "# DRIVER\n",
    "from BFSParallel import BFSParallel\n",
    "import sys\n",
    "import ast\n",
    "import subprocess\n",
    "\n",
    "INPUT_GRAPH = sys.argv[1]\n",
    "START_NODE = sys.argv[2]\n",
    "END_NODE = sys.argv[3]\n",
    "\n",
    "mr_job = BFSParallel(args=[INPUT_GRAPH, '--startnode', START_NODE, '--endnode', END_NODE,  '-r', 'hadoop', '--no-output', '--cleanup', 'NONE', '--no-check-input-paths', '--output-dir',  '/tmp/msannat/temp-output' ])\n",
    "#mr_job = BFSParallel(args=[INPUT_GRAPH, '--startnode', START_NODE, '--endnode', END_NODE,  '-r', 'local' ])\n",
    "\n",
    "num_interation = 0\n",
    "endnode_reached = False\n",
    "\n",
    "while (1):\n",
    "    with mr_job.make_runner() as runner: \n",
    "        num_interation += 1\n",
    "        print \"Iteration: \", num_interation\n",
    "        subprocess.Popen([\"hadoop\", \"fs\", \"-rm\", \"-r\", \"/tmp/msannat/temp-output/\"], stdout=None)\n",
    "        runner.run()\n",
    "        f = open(INPUT_GRAPH, 'w+')\n",
    "        #cat = subprocess.Popen([\"hadoop\", \"fs\", \"-cat\", \"/tmp/msannat/temp-output/part-00000\"], stdout=subprocess.PIPE)\n",
    "        cat = subprocess.Popen([\"hadoop\", \"fs\", \"-cat\", \"/tmp/msannat/temp-output/part-*\"], stdout=subprocess.PIPE)\n",
    "        for line in cat.stdout:\n",
    "        #for line in runner.stream_output():\n",
    "            f.writelines(line)\n",
    "            \n",
    "            line = line.split('\\t')\n",
    "            node = line[0].strip('\"')\n",
    "            data = line[1].strip('\"').split('|')\n",
    "            edges = data[0]\n",
    "            distance = data[1]\n",
    "            path = data[2]\n",
    "            status = data[3].replace('\"', \"\")\n",
    "\n",
    "            if status[0] == 'F' :\n",
    "                min_distance = distance\n",
    "                endnode_reached = True\n",
    "                path = ast.literal_eval(path)\n",
    "                shortest_path = ' -> '.join(path) + \" -> \" + node\n",
    "            \n",
    "        if endnode_reached:\n",
    "            break\n",
    "    f.close()\n",
    "\n",
    "print \"number of iterations {}\".format(num_interation)\n",
    "print \"shortest distance from node {} to node {} is: {} with path: [{}]\".format(START_NODE, END_NODE, min_distance, shortest_path)\n",
    "\n",
    "# DRIVER"
   ]
  },
  {
   "cell_type": "code",
   "execution_count": 8,
   "metadata": {
    "collapsed": false
   },
   "outputs": [],
   "source": [
    "!chmod a+x ./BFSParallel_driver.py"
   ]
  },
  {
   "cell_type": "code",
   "execution_count": 9,
   "metadata": {
    "collapsed": false
   },
   "outputs": [
    {
     "name": "stdout",
     "output_type": "stream",
     "text": [
      "17/03/14 05:03:58 INFO fs.TrashPolicyDefault: Namenode trash configuration: Deletion interval = 5760 minutes, Emptier interval = 360 minutes.\n",
      "Moved: 'hdfs://nn-ia.s3s.altiscale.com:8020/tmp/msannat/temp-output' to trash at: hdfs://nn-ia.s3s.altiscale.com:8020/user/manishsannat/.Trash/Current\n",
      "ls: `hdfs:///tmp/msannat/temp-output': No such file or directory\n"
     ]
    }
   ],
   "source": [
    "!hdfs dfs -rm -r hdfs:///tmp/msannat/temp-output\n",
    "!hdfs dfs -ls hdfs:///tmp/msannat/temp-output"
   ]
  },
  {
   "cell_type": "code",
   "execution_count": 10,
   "metadata": {
    "collapsed": false
   },
   "outputs": [
    {
     "name": "stdout",
     "output_type": "stream",
     "text": [
      "Iteration:  1\n",
      "rm: `/tmp/msannat/temp-output/': No such file or directory\n",
      "Iteration:  2\n",
      "17/03/14 05:04:59 INFO fs.TrashPolicyDefault: Namenode trash configuration: Deletion interval = 5760 minutes, Emptier interval = 360 minutes.\n",
      "Moved: 'hdfs://nn-ia.s3s.altiscale.com:8020/tmp/msannat/temp-output' to trash at: hdfs://nn-ia.s3s.altiscale.com:8020/user/manishsannat/.Trash/Current\n",
      "Iteration:  3\n",
      "17/03/14 05:07:20 INFO fs.TrashPolicyDefault: Namenode trash configuration: Deletion interval = 5760 minutes, Emptier interval = 360 minutes.\n",
      "Moved: 'hdfs://nn-ia.s3s.altiscale.com:8020/tmp/msannat/temp-output' to trash at: hdfs://nn-ia.s3s.altiscale.com:8020/user/manishsannat/.Trash/Current\n",
      "number of iterations 3\n",
      "shortest distance from node 1 to node 4 is: 2 with path: [1 -> 5 -> 4]\n"
     ]
    }
   ],
   "source": [
    "!cp ./undirected_toy_graph.txt ./undirected_toy_graph_input.txt\n",
    "!python ./BFSParallel_driver.py ./undirected_toy_graph_input.txt 1 4"
   ]
  },
  {
   "cell_type": "code",
   "execution_count": 11,
   "metadata": {
    "collapsed": false
   },
   "outputs": [
    {
     "name": "stdout",
     "output_type": "stream",
     "text": [
      "Iteration:  1\n",
      "17/03/14 05:09:16 INFO fs.TrashPolicyDefault: Namenode trash configuration: Deletion interval = 5760 minutes, Emptier interval = 360 minutes.\n",
      "Moved: 'hdfs://nn-ia.s3s.altiscale.com:8020/tmp/msannat/temp-output' to trash at: hdfs://nn-ia.s3s.altiscale.com:8020/user/manishsannat/.Trash/Current\n",
      "Iteration:  2\n",
      "17/03/14 05:10:26 INFO fs.TrashPolicyDefault: Namenode trash configuration: Deletion interval = 5760 minutes, Emptier interval = 360 minutes.\n",
      "Moved: 'hdfs://nn-ia.s3s.altiscale.com:8020/tmp/msannat/temp-output' to trash at: hdfs://nn-ia.s3s.altiscale.com:8020/user/manishsannat/.Trash/Current\n",
      "Iteration:  3\n",
      "17/03/14 05:12:17 INFO fs.TrashPolicyDefault: Namenode trash configuration: Deletion interval = 5760 minutes, Emptier interval = 360 minutes.\n",
      "Moved: 'hdfs://nn-ia.s3s.altiscale.com:8020/tmp/msannat/temp-output' to trash at: hdfs://nn-ia.s3s.altiscale.com:8020/user/manishsannat/.Trash/Current\n",
      "Iteration:  4\n",
      "17/03/14 05:13:56 INFO fs.TrashPolicyDefault: Namenode trash configuration: Deletion interval = 5760 minutes, Emptier interval = 360 minutes.\n",
      "Moved: 'hdfs://nn-ia.s3s.altiscale.com:8020/tmp/msannat/temp-output' to trash at: hdfs://nn-ia.s3s.altiscale.com:8020/user/manishsannat/.Trash/Current\n",
      "number of iterations 4\n",
      "shortest distance from node 1 to node 5 is: 3 with path: [1 -> 2 -> 4 -> 5]\n"
     ]
    }
   ],
   "source": [
    "!cp ./directed_toy_graph.txt ./directed_toy_graph_input.txt\n",
    "!python ./BFSParallel_driver.py ./directed_toy_graph_input.txt 1 5"
   ]
  },
  {
   "cell_type": "markdown",
   "metadata": {},
   "source": [
    "## Section 2: Exploratory data analysis (NLTK synonyms)\n",
    "Using MRJob, I am going to explore the synonyms network data.\n",
    "I am going to plot the degree distribution (it follows a power law), and determine some of the key features, like:\n",
    "number of nodes, \n",
    "number links,\n",
    "or the average degree (i.e., the average number of links per node),\n",
    "etc...\n",
    "\n",
    "As I develop my code, I am going to run it locally first (though on the whole dataset). \n",
    "Once I have gotten the code to run locally, I will deploy it on AWS as a systems test in preparation for our next dataset (which will require AWS).\n"
   ]
  },
  {
   "cell_type": "code",
   "execution_count": 12,
   "metadata": {
    "collapsed": false
   },
   "outputs": [
    {
     "name": "stdout",
     "output_type": "stream",
     "text": [
      "1\t{'2': 1, '3': 1, '4': 1}\r\n",
      "2\t{'1': 1, '3': 1, '4': 1, '310': 1, '311': 1}\r\n",
      "3\t{'1': 1, '2': 1, '4': 1}\r\n",
      "4\t{'1': 1, '2': 1, '3': 1, '311': 1}\r\n",
      "5\t{'6': 1}\r\n",
      "6\t{'5': 1}\r\n",
      "7\t{'8': 1, '9': 1}\r\n",
      "8\t{'7': 1, '9': 1}\r\n",
      "9\t{'7': 1, '8': 1, '124': 1, '1316': 1}\r\n",
      "10\t{'11': 1, '12': 1, '13': 1, '14': 1, '15': 1, '16': 1, '17': 1}\r\n",
      "cat: write error: Broken pipe\r\n"
     ]
    }
   ],
   "source": [
    "! cat synNet.txt | head -n10\n",
    "#! cat indices.txt | head -n10"
   ]
  },
  {
   "cell_type": "code",
   "execution_count": 13,
   "metadata": {
    "collapsed": false
   },
   "outputs": [
    {
     "name": "stdout",
     "output_type": "stream",
     "text": [
      "Overwriting nltksynonymsexpldataanalysis.py\n"
     ]
    }
   ],
   "source": [
    "%%writefile nltksynonymsexpldataanalysis.py\n",
    "from mrjob.job import MRJob\n",
    "from mrjob.step import MRStep\n",
    "import ast\n",
    " \n",
    "\n",
    "\n",
    "class ntlksynexpldataanalysis(MRJob):\n",
    "    \n",
    "    \n",
    "    def mapper_init(self):\n",
    "        pass\n",
    "    \n",
    "    def mapper(self, _, line): \n",
    "        node, neighbors_string = line.split('\\t')\n",
    "        neighbors = ast.literal_eval(neighbors_string)\n",
    "        yield node, len(neighbors)\n",
    "                 \n",
    "    def reducer_init(self):\n",
    "        self.num_nodes = 0\n",
    "        self.num_links = 0\n",
    "                    \n",
    "    def reducer(self, key, values):\n",
    "        self.num_nodes+=1\n",
    "        self.num_links+= sum( values)\n",
    "        \n",
    "    def reducer_final(self):\n",
    "        yield 'avg', (self.num_nodes, self.num_links)\n",
    "        \n",
    "                    \n",
    "    def steps(self):\n",
    "        return [MRStep(mapper_init=self.mapper_init,\n",
    "                       mapper=self.mapper,\n",
    "                       combiner=None,\n",
    "                       reducer_init=self.reducer_init,\n",
    "                       reducer=self.reducer,\n",
    "                       reducer_final=self.reducer_final)                \n",
    "            ]\n",
    "\n",
    "\n",
    "        \n",
    "if __name__ == '__main__':\n",
    "    ntlksynexpldataanalysis.run()"
   ]
  },
  {
   "cell_type": "code",
   "execution_count": 14,
   "metadata": {
    "collapsed": false
   },
   "outputs": [
    {
     "name": "stdout",
     "output_type": "stream",
     "text": [
      "\n",
      "*****************************\n",
      "Number of nodes: 8271\n",
      "Number of links: 61134\n",
      "Average degree: 0.14\n",
      "\n",
      "*****************************\n"
     ]
    }
   ],
   "source": [
    "\n",
    "from nltksynonymsexpldataanalysis import ntlksynexpldataanalysis\n",
    "mr_job = ntlksynexpldataanalysis(args=[ '-r', 'local' , 'synNet.txt'])\n",
    "with mr_job.make_runner() as runner: \n",
    "    runner.run()\n",
    "    num_nodes = 0\n",
    "    num_links = 0\n",
    "    # stream_output: get access of the output \n",
    "    for line in runner.stream_output():\n",
    "        key,value =  mr_job.parse_output_line(line)\n",
    "        num_nodes+= int(value[0])\n",
    "        num_links+= int(value[1])\n",
    "        #print value\n",
    "print \"\\n*****************************\"\n",
    "print \"Number of nodes: %s\" %num_nodes\n",
    "print \"Number of links: %s\" %num_links\n",
    "print \"Average degree: %.2f\" %(num_nodes*1.0/num_links)\n",
    "print \"\\n*****************************\"\n"
   ]
  },
  {
   "cell_type": "code",
   "execution_count": 15,
   "metadata": {
    "collapsed": false
   },
   "outputs": [
    {
     "name": "stdout",
     "output_type": "stream",
     "text": [
      "Overwriting nltksynonymspowerlawdist.py\n"
     ]
    }
   ],
   "source": [
    "%%writefile nltksynonymspowerlawdist.py\n",
    "from mrjob.job import MRJob\n",
    "from mrjob.step import MRStep\n",
    "import ast\n",
    " \n",
    "\n",
    "\n",
    "class nltksynonymspowerlaw(MRJob):\n",
    "    \n",
    "    def mapper(self, _, line): \n",
    "        node, neighbors_string = line.split('\\t')\n",
    "        neighbors = ast.literal_eval(neighbors_string)\n",
    "        yield node, len(neighbors)   \n",
    "                    \n",
    "    def steps(self):\n",
    "        return [MRStep(mapper=self.mapper)                \n",
    "            ]\n",
    "\n",
    "\n",
    "        \n",
    "if __name__ == '__main__':\n",
    "    nltksynonymspowerlaw.run()"
   ]
  },
  {
   "cell_type": "code",
   "execution_count": 20,
   "metadata": {
    "collapsed": false
   },
   "outputs": [
    {
     "data": {
      "image/png": "[encoded data removed]",
      "text/plain": [
       "<matplotlib.figure.Figure at 0x7f8144fdc610>"
      ]
     },
     "metadata": {},
     "output_type": "display_data"
    }
   ],
   "source": [
    "%matplotlib inline\n",
    "import matplotlib.pyplot as plt\n",
    "import numpy as np\n",
    "from nltksynonymspowerlawdist import nltksynonymspowerlaw\n",
    "mr_job = nltksynonymspowerlaw(args=[ '-r', 'local' , 'synNet.txt'])\n",
    "with mr_job.make_runner() as runner: \n",
    "    runner.run()\n",
    "    links_dist = []\n",
    "    links_dist_dict = {}\n",
    "    \n",
    "    for line in runner.stream_output():\n",
    "        key,value =  mr_job.parse_output_line(line)\n",
    "        links_dist.append(value)\n",
    "        links_dist_dict[key] = value\n",
    "\n",
    "y,binEdges=np.histogram(links_dist,bins=200)\n",
    "bincenters = 0.5*(binEdges[1:]+binEdges[:-1])\n",
    "plt.plot(bincenters,y,'-')\n",
    "plt.title(\"Degree Distribution\")\n",
    "plt.xlabel(\"Number of links(degree)\")\n",
    "plt.ylabel(\"Frequency\")\n",
    "plt.show()\n",
    "\n"
   ]
  },
  {
   "cell_type": "markdown",
   "metadata": {},
   "source": [
    "### It does seem to follow a power law."
   ]
  },
  {
   "cell_type": "markdown",
   "metadata": {},
   "source": [
    "## Section 3: Shortest path graph distances (NLTK synonyms)\n",
    "I am going to write (reuse code from section 1 above) an MRJob class to find shortest path graph distances, and apply it to the NLTK synonyms network dataset. \n",
    "\n",
    "Proof the code's function by running the job:\n",
    "\n",
    "- shortest path starting at \"walk\" (index=7827) and ending at \"make\" (index=536),\n",
    "\n",
    "and showing the code's output. Once again, output will include the path and the distance.\n",
    "\n",
    "As I develop my code, please be sure to run it locally first (though on the whole dataset). \n",
    "Once I have gotten the code to run locally, I will deploy it on AWS as a systems test\n",
    "in preparation for our next dataset (which will require AWS).\n",
    "\n",
    "=====================================\n",
    "<strong>NOTE: Dataset 2 English Wikipedia hyperlink network.data </strong>\n",
    "The dataset is available via Dropbox at:\n",
    "\n",
    "https://www.dropbox.com/sh/2c0k5adwz36lkcw/AAAAKsjQfF9uHfv-X9mCqr9wa?dl=0\n",
    "\n",
    "on S3 at \n",
    "<a href=\"s3://ucb-mids-mls-networks/wikipedia/\">s3://ucb-mids-mls-networks/wikipedia/</a>\n",
    "<a href=\"s3://ucb-mids-mls-networks/wikipedia/all-pages-indexed-out.txt\">s3://ucb-mids-mls-networks/wikipedia/all-pages-indexed-out.txt</a> # Graph\n",
    "<a href=\"s3://ucb-mids-mls-networks/wikipedia/indices.txt\">s3://ucb-mids-mls-networks/wikipedia/indices.txt</a> # Page titles and page Ids\n",
    "\n",
    "For the remainder of this notebook I will explore the English Wikipedia hyperlink network.\n",
    "\n",
    "The dataset is built from the Sept. 2015 XML snapshot of English Wikipedia.\n",
    "For this directed network, a link between articles: \n",
    "\n",
    "A -> B\n",
    "\n",
    "is defined by the existence of a hyperlink in A pointing to B.\n",
    "This network also exists in the indexed format:\n",
    "\n",
    "Data: <a href=\"s3://ucb-mids-mls-networks/wikipedia/all-pages-indexed-out.txt\">s3://ucb-mids-mls-networks/wikipedia/all-pages-indexed-out.txt</a>\n",
    "Data: <a href=\"s3://ucb-mids-mls-networks/wikipedia/all-pages-indexed-in.txt\">s3://ucb-mids-mls-networks/wikipedia/all-pages-indexed-in.txt</a>\n",
    "Data: <a href=\"s3://ucb-mids-mls-networks/wikipedia/indices.txt\">s3://ucb-mids-mls-networks/wikipedia/indices.txt</a>\n",
    "\n",
    "but has an index with more detailed data:\n",
    "\n",
    "(article name) \\t (index) \\t (in degree) \\t (out degree)\n",
    "\n",
    "In the dictionary, target nodes are keys, link weights are values .\n",
    "Here, a weight indicates the number of time a page links to another.\n",
    "However, for the sake of this assignment, treat this an unweighted network,\n",
    "and set all weights to 1 upon data input.\n",
    "\n",
    "</pre>\n",
    "</div>"
   ]
  },
  {
   "cell_type": "code",
   "execution_count": 21,
   "metadata": {
    "collapsed": false
   },
   "outputs": [
    {
     "name": "stdout",
     "output_type": "stream",
     "text": [
      "Overwriting BFSParallelNLTKSynonyms.py\n"
     ]
    }
   ],
   "source": [
    "%%writefile BFSParallelNLTKSynonyms.py\n",
    "\n",
    "\n",
    "from mrjob.job import MRJob\n",
    "from mrjob.step import MRStep\n",
    "import ast\n",
    "import sys\n",
    "\n",
    "\n",
    "class BFSParallelNLTKSynonyms(MRJob):\n",
    "    \n",
    "    def steps(self):\n",
    "        return [MRStep(mapper_init=self.mapper_init,\n",
    "                       mapper=self.mapper,\n",
    "                       combiner=None,\n",
    "                       reducer_init=self.reducer_init,\n",
    "                       reducer=self.reducer,\n",
    "                       reducer_final=self.reducer_final)\n",
    "                ]\n",
    "    \n",
    "    \n",
    "    def configure_options(self):\n",
    "        super(BFSParallelNLTKSynonyms, self).configure_options()\n",
    "        self.add_passthrough_option('--startnode', default='1', type=str, help='start node for single source shortest path')\n",
    "        self.add_passthrough_option('--endnode', default=None, type=str, help='target node to be visited')\n",
    "    \n",
    "    def mapper_init(self):\n",
    "        self.startnode = self.options.startnode\n",
    "    \n",
    "    \n",
    "    def mapper(self, _, line):\n",
    "        \n",
    "        distance = sys.maxint\n",
    "        path =[]\n",
    "        status= None\n",
    "        node = None\n",
    "        edges = None\n",
    "        \n",
    "        node, graph_values = line.strip().split('\\t')\n",
    "        node =  node.strip('\"')\n",
    "        values = graph_values.strip('\"').split(\"|\")\n",
    "        edges = ast.literal_eval(values[0])\n",
    "\n",
    "        if len(values) == 4:\n",
    "            distance = int(values[1])\n",
    "            path = ast.literal_eval(values[2])\n",
    "            status = values[3]\n",
    "        \n",
    "        if status == None:\n",
    "            if self.startnode == node:\n",
    "                distance = 0\n",
    "                status = 'queued'\n",
    "        if status == 'queued':\n",
    "            yield node, (edges, distance, path,  'visited')\n",
    "            path.append(node)\n",
    "            for node in edges.iterkeys():\n",
    "                yield node, (None,  distance+1, path,'queued')\n",
    "        else:\n",
    "            yield node, (edges,  distance, path,status)\n",
    "\n",
    "\n",
    "\n",
    "    def reducer_init(self):\n",
    "        self.endnode = self.options.endnode\n",
    "        self.endnode_reached = False\n",
    "        self.final_path = None\n",
    "\n",
    "\n",
    "    def reducer(self, key, values):\n",
    "        edges = {}\n",
    "        distance= []\n",
    "        status = []\n",
    "        path = []\n",
    "        curr_state = None\n",
    "        \n",
    "        \n",
    "        for value in values:\n",
    "            edges_t = value[0]\n",
    "            path_t = value[2]\n",
    "            distance_t = value[1]\n",
    "            status_t = value[3]\n",
    "            \n",
    "            if status_t == 'visited':\n",
    "                path = path_t\n",
    "                edges = edges_t\n",
    "            else:\n",
    "                if edges_t != None:\n",
    "                    edges = edges_t\n",
    "                if path_t != None and len(path_t) > 0:\n",
    "                    path = path_t\n",
    "            distance.append(distance_t)\n",
    "            status.append(status_t)\n",
    "        min_distance = min(distance)\n",
    "\n",
    "\n",
    "        if 'visited' in status:\n",
    "            curr_state = 'visited'\n",
    "            if self.endnode != None and key.strip('\"') == self.endnode:\n",
    "                self.endnode_reached = True\n",
    "                self.final_path = str(key) + \"\\t\" + str(edges) + '|' + str(min_distance) + '|' + str(path) + '|' + \"F\"\n",
    "        elif 'queued' in status:\n",
    "            curr_state = 'queued'\n",
    "        else:\n",
    "            curr_state = 'unvisited'\n",
    "\n",
    "        yield key, str(edges) + '|' + str(min_distance) + '|' + str(path) + '|' + curr_state\n",
    "    \n",
    "    def reducer_final(self):\n",
    "        if self.endnode_reached:\n",
    "            yield self.final_path.split('\\t')[0], self.final_path.split('\\t')[1]\n",
    "\n",
    "\n",
    "if __name__ == '__main__':\n",
    "    BFSParallelNLTKSynonyms.run()\n",
    "\n"
   ]
  },
  {
   "cell_type": "code",
   "execution_count": 22,
   "metadata": {
    "collapsed": false
   },
   "outputs": [
    {
     "name": "stdout",
     "output_type": "stream",
     "text": [
      "Overwriting BFSParallelNLTKSynonyms_driver.py\n"
     ]
    }
   ],
   "source": [
    "%%writefile BFSParallelNLTKSynonyms_driver.py\n",
    "\n",
    "from BFSParallelNLTKSynonyms import BFSParallelNLTKSynonyms\n",
    "import sys\n",
    "import ast\n",
    "import subprocess\n",
    "\n",
    "def ind_lookup(path):\n",
    "    node_words = []\n",
    "    with open(\"indices.txt\",\"r\") as f:\n",
    "        for line in f.readlines():\n",
    "            word,index = line.strip().split(\"\\t\")\n",
    "            if int(index) in path:\n",
    "                node_words.append(word)\n",
    "    return node_words \n",
    "\n",
    "\n",
    "INPUT_GRAPH = sys.argv[1]\n",
    "START_NODE = sys.argv[2]\n",
    "END_NODE = sys.argv[3]\n",
    "\n",
    "mr_job = BFSParallelNLTKSynonyms(args=[INPUT_GRAPH, '--startnode', START_NODE, '--endnode', END_NODE,  '-r', 'hadoop', '--no-output', '--cleanup', 'NONE', '--no-check-input-paths', '--output-dir',  '/tmp/msannat/temp-output' ])\n",
    "#mr_job = BFSParallelNLTKSynonyms(args=[INPUT_GRAPH, '--startnode', START_NODE, '--endnode', END_NODE,  '-r', 'local' ])\n",
    "\n",
    "num_interation = 0\n",
    "endnode_reached = False\n",
    "#shortest_path_words = []\n",
    "\n",
    "while (1):\n",
    "    with mr_job.make_runner() as runner: \n",
    "        num_interation += 1\n",
    "        print \"Iteration: \", num_interation\n",
    "        subprocess.Popen([\"hadoop\", \"fs\", \"-rm\", \"-r\", \"/tmp/msannat/temp-output/\"], stdout=None)\n",
    "        runner.run()\n",
    "        if num_interation ==1:\n",
    "            #INPUT_GRAPH = 'undirected_toy_graph_input.txt'\n",
    "            f = open(INPUT_GRAPH, 'w+')\n",
    "        else:\n",
    "            #INPUT_GRAPH = 'undirected_toy_graph_input.txt'\n",
    "            f = open(INPUT_GRAPH, 'w+')\n",
    "            \n",
    "        #cat = subprocess.Popen([\"hadoop\", \"fs\", \"-cat\", \"/tmp/msannat/temp-output/part-00000\"], stdout=subprocess.PIPE)\n",
    "        cat = subprocess.Popen([\"hadoop\", \"fs\", \"-cat\", \"/tmp/msannat/temp-output/part-*\"], stdout=subprocess.PIPE)\n",
    "        for line in cat.stdout:\n",
    "        #for line in runner.stream_output():\n",
    "            f.writelines(line)\n",
    "            \n",
    "            line = line.split('\\t')\n",
    "            node = line[0].strip('\"')\n",
    "            data = line[1].strip('\"').split('|')\n",
    "            edges = data[0]\n",
    "            distance = data[1]\n",
    "            path = data[2]\n",
    "            status = data[3].replace('\"', \"\")\n",
    "\n",
    "            if status[0] == 'F' :\n",
    "                min_distance = distance\n",
    "                endnode_reached = True\n",
    "                path = ast.literal_eval(path)\n",
    "                shortest_path = ' -> '.join(path) + \" -> \" + node\n",
    "                #shortest_path_words = ' -> '.join(ind_lookup(path))  + ' -> ' + ' -> '.join(ind_lookup([node]))\n",
    "                shortest_path_words = ' -> '.join(ind_lookup([int(v) for v in path]))  + ' -> ' + ' -> '.join(ind_lookup([int(node)]))\n",
    "\n",
    "                \n",
    "            \n",
    "        if endnode_reached:\n",
    "            break\n",
    "    f.close()\n",
    "\n",
    "\n",
    "print \"number of iterations {}\".format(num_interation)\n",
    "print \"shortest distance from node {} to node {} is: {} with path: [{}] and words : [{}] \".format(START_NODE, END_NODE, min_distance, shortest_path, shortest_path_words)\n",
    "\n"
   ]
  },
  {
   "cell_type": "code",
   "execution_count": 23,
   "metadata": {
    "collapsed": false
   },
   "outputs": [
    {
     "name": "stdout",
     "output_type": "stream",
     "text": [
      "Iteration:  1\n",
      "17/03/14 05:23:45 INFO fs.TrashPolicyDefault: Namenode trash configuration: Deletion interval = 5760 minutes, Emptier interval = 360 minutes.\n",
      "Moved: 'hdfs://nn-ia.s3s.altiscale.com:8020/tmp/msannat/temp-output' to trash at: hdfs://nn-ia.s3s.altiscale.com:8020/user/manishsannat/.Trash/Current\n",
      "Iteration:  2\n",
      "17/03/14 05:27:37 INFO fs.TrashPolicyDefault: Namenode trash configuration: Deletion interval = 5760 minutes, Emptier interval = 360 minutes.\n",
      "Moved: 'hdfs://nn-ia.s3s.altiscale.com:8020/tmp/msannat/temp-output' to trash at: hdfs://nn-ia.s3s.altiscale.com:8020/user/manishsannat/.Trash/Current\n",
      "Iteration:  3\n",
      "17/03/14 05:29:31 INFO fs.TrashPolicyDefault: Namenode trash configuration: Deletion interval = 5760 minutes, Emptier interval = 360 minutes.\n",
      "Moved: 'hdfs://nn-ia.s3s.altiscale.com:8020/tmp/msannat/temp-output' to trash at: hdfs://nn-ia.s3s.altiscale.com:8020/user/manishsannat/.Trash/Current\n",
      "Iteration:  4\n",
      "17/03/14 05:32:17 INFO fs.TrashPolicyDefault: Namenode trash configuration: Deletion interval = 5760 minutes, Emptier interval = 360 minutes.\n",
      "Moved: 'hdfs://nn-ia.s3s.altiscale.com:8020/tmp/msannat/temp-output' to trash at: hdfs://nn-ia.s3s.altiscale.com:8020/user/manishsannat/.Trash/Current\n",
      "number of iterations 4\n",
      "shortest distance from node 7827 to node 536 is: 3 with path: [7827 -> 1426 -> 89 -> 3775 -> 536] and words : [walk -> pass -> go -> wrought ->  make] \n"
     ]
    }
   ],
   "source": [
    "\n",
    "!cp ./synNet.txt ./synNet_input.txt\n",
    "!python ./BFSParallelNLTKSynonyms_driver.py ./synNet_input.txt 7827 536\n",
    "\n"
   ]
  },
  {
   "cell_type": "markdown",
   "metadata": {},
   "source": [
    "## Section 4: Exploratory data analysis (Wikipedia)\n",
    "Using MRJob, explore the Wikipedia network data on the AWS cloud. Reuse the code from section 2. \n",
    "\n",
    "Be cautioned that Wikipedia is a directed network, where links are not symmetric. \n",
    "So, even though a node may be linked to, it will not appear as a primary record itself if it has no out-links. \n",
    "\n",
    "This means that I may have to ADJUST my code (depending on its design). \n",
    "\n",
    "To be sure of the code's functionality in this context, run a systems test on the directed_toy.txt network.\n"
   ]
  },
  {
   "cell_type": "code",
   "execution_count": 24,
   "metadata": {
    "collapsed": false
   },
   "outputs": [
    {
     "name": "stdout",
     "output_type": "stream",
     "text": [
      "Overwriting wikipediaexpldataanalysis.py\n"
     ]
    }
   ],
   "source": [
    "%%writefile wikipediaexpldataanalysis.py\n",
    "from mrjob.job import MRJob\n",
    "from mrjob.step import MRStep\n",
    "import ast\n",
    "\n",
    "\n",
    "class wikipediaexpldataanalysis(MRJob):\n",
    "    \n",
    "    \n",
    "    def mapper_init(self):\n",
    "        pass\n",
    "    \n",
    "    def mapper(self, _, line): \n",
    "        node, neighbors_string = line.split('\\t')\n",
    "        neighbors = ast.literal_eval(neighbors_string)\n",
    "        yield node, len(neighbors)\n",
    "                 \n",
    "    def reducer_init(self):\n",
    "        self.num_nodes = 0\n",
    "        self.num_links = 0\n",
    "                    \n",
    "    def reducer(self, key, values):\n",
    "        self.num_nodes+=1\n",
    "        self.num_links+= sum( values)\n",
    "        \n",
    "    def reducer_final(self):\n",
    "        yield 'avg', (self.num_nodes, self.num_links)\n",
    "        \n",
    "                    \n",
    "    def steps(self):\n",
    "        return [MRStep(mapper_init=self.mapper_init,\n",
    "                       mapper=self.mapper,\n",
    "                       combiner=None,\n",
    "                       reducer_init=self.reducer_init,\n",
    "                       reducer=self.reducer,\n",
    "                       reducer_final=self.reducer_final)                \n",
    "            ]\n",
    "\n",
    "\n",
    "        \n",
    "if __name__ == '__main__':\n",
    "    wikipediaexpldataanalysis.run()"
   ]
  },
  {
   "cell_type": "code",
   "execution_count": 25,
   "metadata": {
    "collapsed": false
   },
   "outputs": [
    {
     "name": "stdout",
     "output_type": "stream",
     "text": [
      "17/03/14 05:36:18 INFO fs.TrashPolicyDefault: Namenode trash configuration: Deletion interval = 5760 minutes, Emptier interval = 360 minutes.\n",
      "Moved: 'hdfs://nn-ia.s3s.altiscale.com:8020/tmp/msannat/temp-output' to trash at: hdfs://nn-ia.s3s.altiscale.com:8020/user/manishsannat/.Trash/Current\n",
      "ls: `hdfs:///tmp/msannat/temp-output': No such file or directory\n"
     ]
    }
   ],
   "source": [
    "!hdfs dfs -rm -r hdfs:///tmp/msannat/temp-output\n",
    "!hdfs dfs -ls hdfs:///tmp/msannat/temp-output"
   ]
  },
  {
   "cell_type": "code",
   "execution_count": 27,
   "metadata": {
    "collapsed": false
   },
   "outputs": [
    {
     "name": "stdout",
     "output_type": "stream",
     "text": [
      "\n",
      "*****************************\n",
      "Number of nodes: 5781290\n",
      "Number of links: 142114057\n",
      "Average degree: 0.04\n",
      "\n",
      "*****************************\n"
     ]
    }
   ],
   "source": [
    "from wikipediaexpldataanalysis import wikipediaexpldataanalysis\n",
    "import subprocess\n",
    "mr_job = wikipediaexpldataanalysis(args=['hdfs:///tmp/hw7/wiki_out.txt', '-r', 'hadoop' , \n",
    "                                         '--no-output', '--cleanup', 'NONE', '--output-dir',  '/tmp/msannat/temp-output'])\n",
    "with mr_job.make_runner() as runner: \n",
    "    subprocess.Popen([\"hadoop\", \"fs\", \"-rm\", \"-r\", \"/tmp/msannat/temp-output/\"], stdout=None)\n",
    "    runner.run()\n",
    "    num_nodes = 0\n",
    "    num_links = 0\n",
    "    # stream_output: get access of the output \n",
    "    cat = subprocess.Popen([\"hadoop\", \"fs\", \"-cat\", \"/tmp/msannat/temp-output/part-*\"], stdout=subprocess.PIPE)\n",
    "    for line in cat.stdout:\n",
    "    #for line in runner.stream_output():\n",
    "        key,value =  mr_job.parse_output_line(line)\n",
    "        num_nodes+= int(value[0])\n",
    "        num_links+= int(value[1])\n",
    "        #print value\n",
    "print \"\\n*****************************\"\n",
    "print \"Number of nodes: %s\" %num_nodes\n",
    "print \"Number of links: %s\" %num_links\n",
    "print \"Average degree: %.2f\" %(num_nodes*1.0/num_links)\n",
    "print \"\\n*****************************\"\n"
   ]
  },
  {
   "cell_type": "code",
   "execution_count": 28,
   "metadata": {
    "collapsed": false
   },
   "outputs": [
    {
     "name": "stdout",
     "output_type": "stream",
     "text": [
      "Overwriting wikipediapowerlawdist.py\n"
     ]
    }
   ],
   "source": [
    "%%writefile wikipediapowerlawdist.py\n",
    "from mrjob.job import MRJob\n",
    "from mrjob.step import MRStep\n",
    "import ast\n",
    " \n",
    "\n",
    "\n",
    "class wikipediapowerlaw(MRJob):\n",
    "    \n",
    "    def mapper(self, _, line): \n",
    "        node, neighbors_string = line.split('\\t')\n",
    "        neighbors = ast.literal_eval(neighbors_string)\n",
    "        yield node, len(neighbors)   \n",
    "                    \n",
    "    def steps(self):\n",
    "        return [MRStep(mapper=self.mapper)                \n",
    "            ]\n",
    "\n",
    "\n",
    "        \n",
    "if __name__ == '__main__':\n",
    "    wikipediapowerlaw.run()"
   ]
  },
  {
   "cell_type": "code",
   "execution_count": 29,
   "metadata": {
    "collapsed": false
   },
   "outputs": [
    {
     "name": "stdout",
     "output_type": "stream",
     "text": [
      "17/03/14 05:51:53 INFO fs.TrashPolicyDefault: Namenode trash configuration: Deletion interval = 5760 minutes, Emptier interval = 360 minutes.\n",
      "Moved: 'hdfs://nn-ia.s3s.altiscale.com:8020/tmp/msannat/temp-output' to trash at: hdfs://nn-ia.s3s.altiscale.com:8020/user/manishsannat/.Trash/Current\n",
      "ls: `hdfs:///tmp/msannat/temp-output': No such file or directory\n"
     ]
    }
   ],
   "source": [
    "!hdfs dfs -rm -r hdfs:///tmp/msannat/temp-output\n",
    "!hdfs dfs -ls hdfs:///tmp/msannat/temp-output"
   ]
  },
  {
   "cell_type": "code",
   "execution_count": 30,
   "metadata": {
    "collapsed": false
   },
   "outputs": [
    {
     "data": {
      "image/png": "[encoded data removed]",
      "text/plain": [
       "<matplotlib.figure.Figure at 0x7f81503ac1d0>"
      ]
     },
     "metadata": {},
     "output_type": "display_data"
    }
   ],
   "source": [
    "%matplotlib inline\n",
    "import matplotlib.pyplot as plt\n",
    "from wikipediapowerlawdist import wikipediapowerlaw\n",
    "import subprocess\n",
    "import numpy as np\n",
    "#mr_job = wikipediapowerlaw(args=[ '-r', 'local' , 'all-pages-indexed-in.txt'])\n",
    "mr_job = wikipediapowerlaw(args=['hdfs:///tmp/msannat/wiki_out_input.txt', '-r', 'hadoop' ,  '--no-output', '--cleanup', 'NONE', '--output-dir',  '/tmp/msannat/temp-output' ])\n",
    "\n",
    "with mr_job.make_runner() as runner: \n",
    "    subprocess.Popen([\"hadoop\", \"fs\", \"-rm\", \"-r\", \"/tmp/msannat/temp-output/\"], stdout=None)\n",
    "    runner.run()\n",
    "    links_dist = []\n",
    "    cat = subprocess.Popen([\"hadoop\", \"fs\", \"-cat\", \"/tmp/msannat/temp-output/part-*\"], stdout=subprocess.PIPE)\n",
    "    for line in cat.stdout:\n",
    "    #for line in runner.stream_output():\n",
    "        key,value =  mr_job.parse_output_line(line)\n",
    "        links_dist.append(value)\n",
    "\n",
    "y,binEdges=np.histogram(links_dist,bins=200)\n",
    "bincenters = 0.5*(binEdges[1:]+binEdges[:-1])\n",
    "plt.plot(bincenters,y,'-')\n",
    "plt.title(\"Degree Distribution\")\n",
    "plt.xlabel(\"Number of links(degree)\")\n",
    "plt.ylabel(\"Frequency\")\n",
    "plt.show()\n"
   ]
  },
  {
   "cell_type": "markdown",
   "metadata": {},
   "source": [
    "### It seens to closely follow a power law distribution."
   ]
  },
  {
   "cell_type": "markdown",
   "metadata": {},
   "source": [
    "## Section 5 : Shortest path graph distances (Wikipedia)\n",
    "Using MRJob, find shortest path graph distances in the Wikipedia network on the AWS cloud.\n",
    "Reuse the code from section 3, but once again be warned of Wikipedia being a directed network.\n",
    "To be sure of the code's functionality in this context, run a systems test on the directed_toy.txt network.\n",
    "\n",
    "When running the code on the Wikipedia network, proof its function by running the job:\n",
    "\n",
    "- shortest path from \"Ireland\" (index=6176135) to \"University of California, Berkeley\" (index=13466359),\n",
    "\n",
    "and show the code's output. Show the shortest path in terms of just page IDS but also in terms of the name of page (show of MapReduce join skills!!)\n",
    "\n",
    "Once the code is running, find some other shortest paths and report the results.\n"
   ]
  },
  {
   "cell_type": "code",
   "execution_count": 31,
   "metadata": {
    "collapsed": false
   },
   "outputs": [
    {
     "name": "stdout",
     "output_type": "stream",
     "text": [
      "Overwriting BFSParallelWikiPedia.py\n"
     ]
    }
   ],
   "source": [
    "%%writefile BFSParallelWikiPedia.py\n",
    "\n",
    "\n",
    "from mrjob.job import MRJob\n",
    "from mrjob.step import MRStep\n",
    "import ast\n",
    "import sys\n",
    "\n",
    "\n",
    "class BFSParallelWikiPedia(MRJob):\n",
    "    \n",
    "    def steps(self):\n",
    "        return [MRStep(mapper_init=self.mapper_init,\n",
    "                       mapper=self.mapper,\n",
    "                       combiner=None,\n",
    "                       reducer_init=self.reducer_init,\n",
    "                       reducer=self.reducer,\n",
    "                       reducer_final=self.reducer_final)\n",
    "                ]\n",
    "    \n",
    "    \n",
    "    def configure_options(self):\n",
    "        super(BFSParallelWikiPedia, self).configure_options()\n",
    "        self.add_passthrough_option('--startnode', default='1', type=str, help='start node for single source shortest path')\n",
    "        self.add_passthrough_option('--endnode', default=None, type=str, help='target node to be visited')\n",
    "    \n",
    "    def mapper_init(self):\n",
    "        self.startnode = self.options.startnode\n",
    "    \n",
    "    def mapper(self, _, line):\n",
    "        \n",
    "        distance = sys.maxint\n",
    "        path =[]\n",
    "        status= None\n",
    "        node = None\n",
    "        edges = None\n",
    "        \n",
    "        node, graph_values = line.strip().split('\\t')\n",
    "        node =  node.strip('\"')\n",
    "        values = graph_values.strip('\"').split(\"|\")\n",
    "        edges = ast.literal_eval(values[0])\n",
    "\n",
    "        if len(values) == 4:\n",
    "            distance = int(values[1])\n",
    "            path = ast.literal_eval(values[2])\n",
    "            status = values[3]\n",
    "        \n",
    "        if status == None:\n",
    "            if self.startnode == node:\n",
    "                distance = 0\n",
    "                status = 'queued'\n",
    "        if status == 'queued':\n",
    "            yield node, (edges, distance, path,  'visited')\n",
    "            path.append(node)\n",
    "            for node in edges.iterkeys():\n",
    "                yield node, (None,  distance+1, path,'queued')\n",
    "        else:\n",
    "            yield node, (edges,  distance, path,status)\n",
    "\n",
    "\n",
    "\n",
    "    def reducer_init(self):\n",
    "        self.endnode = self.options.endnode\n",
    "        self.endnode_reached = False\n",
    "        self.final_path = None\n",
    "\n",
    "\n",
    "    def reducer(self, key, values):\n",
    "        edges = {}\n",
    "        distance= []\n",
    "        status = []\n",
    "        path = []\n",
    "        curr_state = None\n",
    "        \n",
    "        \n",
    "        for value in values:\n",
    "            edges_t = value[0]\n",
    "            path_t = value[2]\n",
    "            distance_t = value[1]\n",
    "            status_t = value[3]\n",
    "            \n",
    "            if status_t == 'visited':\n",
    "                path = path_t\n",
    "                edges = edges_t\n",
    "            else:\n",
    "                if edges_t != None:\n",
    "                    edges = edges_t\n",
    "                if path_t != None and len(path_t) > 0:\n",
    "                    path = path_t\n",
    "            distance.append(distance_t)\n",
    "            status.append(status_t)\n",
    "        min_distance = min(distance)\n",
    "\n",
    "\n",
    "        if 'visited' in status:\n",
    "            curr_state = 'visited'\n",
    "            if self.endnode != None and key.strip('\"') == self.endnode:\n",
    "                self.endnode_reached = True\n",
    "                self.final_path = str(key) + \"\\t\" + str(edges) + '|' + str(min_distance) + '|' + str(path) + '|' + \"F\"\n",
    "        elif 'queued' in status:\n",
    "            curr_state = 'queued'\n",
    "        else:\n",
    "            curr_state = 'unvisited'\n",
    "\n",
    "        yield key, str(edges) + '|' + str(min_distance) + '|' + str(path) + '|' + curr_state\n",
    "    \n",
    "    def reducer_final(self):\n",
    "        if self.endnode_reached:\n",
    "            yield self.final_path.split('\\t')[0], self.final_path.split('\\t')[1]\n",
    "\n",
    "\n",
    "if __name__ == '__main__':\n",
    "    BFSParallelWikiPedia.run()\n",
    "\n"
   ]
  },
  {
   "cell_type": "code",
   "execution_count": 32,
   "metadata": {
    "collapsed": false
   },
   "outputs": [
    {
     "name": "stdout",
     "output_type": "stream",
     "text": [
      "Overwriting BFSParallelWikiPedia_driver.py\n"
     ]
    }
   ],
   "source": [
    "%%writefile BFSParallelWikiPedia_driver.py\n",
    "\n",
    "\n",
    "from BFSParallelWikiPedia import BFSParallelWikiPedia\n",
    "import sys\n",
    "import ast\n",
    "import subprocess\n",
    "\n",
    "def ind_lookup(path):\n",
    "    node_words = []\n",
    "    with open(\"wiki_indices.txt\",\"r\") as f:\n",
    "        for line in f.readlines():\n",
    "            word,index, temp1, temp2 = line.strip().split(\"\\t\")\n",
    "            if int(index) in path:\n",
    "                node_words.append(word)\n",
    "    return node_words \n",
    "\n",
    "INPUT_GRAPH = sys.argv[1]\n",
    "START_NODE = sys.argv[2]\n",
    "END_NODE = sys.argv[3]\n",
    "\n",
    "mr_job = BFSParallelWikiPedia(args=[INPUT_GRAPH, '--startnode', START_NODE, '--endnode', END_NODE,  '-r', 'hadoop', '--no-output', '--cleanup', 'NONE', '--no-check-input-paths', '--output-dir',  '/tmp/msannat/temp-output' ])\n",
    "#mr_job = BFSParallelWikiPedia(args=[INPUT_GRAPH, '--startnode', START_NODE, '--endnode', END_NODE,  '-r', 'local' ])\n",
    "\n",
    "num_interation = 0\n",
    "endnode_reached = False\n",
    "#shortest_path_words = []\n",
    "\n",
    "while (1):\n",
    "    with mr_job.make_runner() as runner: \n",
    "        num_interation += 1\n",
    "        print \"Iteration: \", num_interation\n",
    "        subprocess.Popen([\"hadoop\", \"fs\", \"-rm\", \"-r\", \"/tmp/msannat/temp-output/\"], stdout=None)\n",
    "        runner.run()\n",
    "        if num_interation ==1:\n",
    "            #INPUT_GRAPH = 'undirected_toy_graph_input.txt'\n",
    "            f = open(INPUT_GRAPH, 'w+')\n",
    "        else:\n",
    "            #INPUT_GRAPH = 'undirected_toy_graph_input.txt'\n",
    "            f = open(INPUT_GRAPH, 'w+')\n",
    "            \n",
    "        #cat = subprocess.Popen([\"hadoop\", \"fs\", \"-cat\", \"/tmp/msannat/temp-output/part-00000\"], stdout=subprocess.PIPE)\n",
    "        cat = subprocess.Popen([\"hadoop\", \"fs\", \"-cat\", \"/tmp/msannat/temp-output/part-*\"], stdout=subprocess.PIPE)\n",
    "        for line in cat.stdout:\n",
    "        #for line in runner.stream_output():\n",
    "            f.writelines(line)\n",
    "            \n",
    "            line = line.split('\\t')\n",
    "            node = line[0].strip('\"')\n",
    "            data = line[1].strip('\"').split('|')\n",
    "            edges = data[0]\n",
    "            distance = data[1]\n",
    "            path = data[2]\n",
    "            status = data[3].replace('\"', \"\")\n",
    "\n",
    "            if status[0] == 'F' :\n",
    "                min_distance = distance\n",
    "                endnode_reached = True\n",
    "                path = ast.literal_eval(path)\n",
    "                shortest_path = ' -> '.join(path) + \" -> \" + node\n",
    "                #shortest_path_words = ' -> '.join(ind_lookup(path))  + ' -> ' + ' -> '.join(ind_lookup([node]))\n",
    "                shortest_path_words = ' -> '.join(ind_lookup([int(v) for v in path]))  + ' -> ' + ' -> '.join(ind_lookup([int(node)]))\n",
    "\n",
    "                \n",
    "            \n",
    "        if endnode_reached:\n",
    "            break\n",
    "    f.close()\n",
    "\n",
    "\n",
    "print \"number of iterations {}\".format(num_interation)\n",
    "print \"shortest distance from node {} to node {} is: {} with path: [{}] and words : [{}] \".format(START_NODE, END_NODE, min_distance, shortest_path, shortest_path_words)\n",
    "\n"
   ]
  },
  {
   "cell_type": "code",
   "execution_count": 33,
   "metadata": {
    "collapsed": true
   },
   "outputs": [],
   "source": [
    "!chmod a+x ./BFSParallelWikiPedia_driver.py"
   ]
  },
  {
   "cell_type": "code",
   "execution_count": 36,
   "metadata": {
    "collapsed": false
   },
   "outputs": [
    {
     "name": "stdout",
     "output_type": "stream",
     "text": [
      "Iteration:  1\n",
      "rm: `/tmp/msannat/temp-output/': No such file or directory\n",
      "Iteration:  2\n",
      "17/03/14 06:48:24 INFO fs.TrashPolicyDefault: Namenode trash configuration: Deletion interval = 5760 minutes, Emptier interval = 360 minutes.\n",
      "Moved: 'hdfs://nn-ia.s3s.altiscale.com:8020/tmp/msannat/temp-output' to trash at: hdfs://nn-ia.s3s.altiscale.com:8020/user/manishsannat/.Trash/Current\n",
      "number of iterations 2\n",
      "shortest distance from node 6176135 to node 13466359 is: 2 with path: [6176135 -> 12905382 -> 4324398 -> 13466359] and words :  [Ireland -> The Washington Post -> Eugene Meyer (financier) -> University of California, Berkeley]\n"
     ]
    }
   ],
   "source": [
    "#!hdfs dfs -cp -f hdfs:/tmp/hw7/wiki_out.txt hdfs:/tmp/msannat/wiki_out_input.txt\n",
    "!python ./BFSParallelWikiPedia_driver.py ./wiki_out.txt 6176135 13466359\n"
   ]
  },
  {
   "cell_type": "code",
   "execution_count": null,
   "metadata": {
    "collapsed": true
   },
   "outputs": [],
   "source": []
  }
 ],
 "metadata": {
  "anaconda-cloud": {},
  "kernelspec": {
   "display_name": "Python [conda env:py27]",
   "language": "python",
   "name": "conda-env-py27-py"
  },
  "language_info": {
   "codemirror_mode": {
    "name": "ipython",
    "version": 2
   },
   "file_extension": ".py",
   "mimetype": "text/x-python",
   "name": "python",
   "nbconvert_exporter": "python",
   "pygments_lexer": "ipython2",
   "version": "2.7.12"
  },
  "toc": {
   "colors": {
    "hover_highlight": "#DAA520",
    "running_highlight": "#FF0000",
    "selected_highlight": "#FFD700"
   },
   "moveMenuLeft": true,
   "nav_menu": {
    "height": "380px",
    "width": "252px"
   },
   "navigate_menu": true,
   "number_sections": true,
   "sideBar": false,
   "threshold": 4,
   "toc_cell": true,
   "toc_section_display": "block",
   "toc_window_display": true
  }
 },
 "nbformat": 4,
 "nbformat_minor": 0
}
